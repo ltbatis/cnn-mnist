{
  "nbformat": 4,
  "nbformat_minor": 0,
  "metadata": {
    "colab": {
      "name": "Building a CNN for handwritten digits - MNIST.ipynb",
      "provenance": [],
      "toc_visible": true,
      "include_colab_link": true
    },
    "kernelspec": {
      "name": "python3",
      "display_name": "Python 3"
    }
  },
  "cells": [
    {
      "cell_type": "markdown",
      "metadata": {
        "id": "view-in-github",
        "colab_type": "text"
      },
      "source": [
        "<a href=\"https://colab.research.google.com/github/ltbatista/computer-vision/blob/master/Building_a_CNN_for_handwritten_digits_MNIST.ipynb\" target=\"_parent\"><img src=\"https://colab.research.google.com/assets/colab-badge.svg\" alt=\"Open In Colab\"/></a>"
      ]
    },
    {
      "cell_type": "markdown",
      "metadata": {
        "id": "UcytWQlOl7yZ",
        "colab_type": "text"
      },
      "source": [
        "# CNN in KERAS \n",
        "### Creating a model based on the MNIST Dataset of Handwritten Digits"
      ]
    },
    {
      "cell_type": "markdown",
      "metadata": {
        "id": "RaLycH9ZmITP",
        "colab_type": "text"
      },
      "source": [
        "### Step 1: Loading dataset"
      ]
    },
    {
      "cell_type": "code",
      "metadata": {
        "id": "TksFGP-zmPI7",
        "colab_type": "code",
        "outputId": "4b4f6b46-224f-4e75-e6b0-a1978f68a89f",
        "colab": {
          "base_uri": "https://localhost:8080/",
          "height": 130
        }
      },
      "source": [
        "from keras.datasets import mnist\n",
        "\n",
        "(X_train, y_train), (X_test, y_test) = mnist.load_data()\n",
        "\n",
        "print(X_train.shape)"
      ],
      "execution_count": 3,
      "outputs": [
        {
          "output_type": "stream",
          "text": [
            "Using TensorFlow backend.\n"
          ],
          "name": "stderr"
        },
        {
          "output_type": "display_data",
          "data": {
            "text/html": [
              "<p style=\"color: red;\">\n",
              "The default version of TensorFlow in Colab will soon switch to TensorFlow 2.x.<br>\n",
              "We recommend you <a href=\"https://www.tensorflow.org/guide/migrate\" target=\"_blank\">upgrade</a> now \n",
              "or ensure your notebook will continue to use TensorFlow 1.x via the <code>%tensorflow_version 1.x</code> magic:\n",
              "<a href=\"https://colab.research.google.com/notebooks/tensorflow_version.ipynb\" target=\"_blank\">more info</a>.</p>\n"
            ],
            "text/plain": [
              "<IPython.core.display.HTML object>"
            ]
          },
          "metadata": {
            "tags": []
          }
        },
        {
          "output_type": "stream",
          "text": [
            "Downloading data from https://s3.amazonaws.com/img-datasets/mnist.npz\n",
            "11493376/11490434 [==============================] - 1s 0us/step\n",
            "(60000, 28, 28)\n"
          ],
          "name": "stdout"
        }
      ]
    },
    {
      "cell_type": "markdown",
      "metadata": {
        "id": "b5SFRWZJm3QS",
        "colab_type": "text"
      },
      "source": [
        "### Step 2A: Examine the size and image dimensions\n",
        "- Check the number of samples, dimensions and wheter images are color or grayscale\n",
        "- We see that our training data consist of **60,000** samples of training data, **10,000** sampes of test data\n",
        "- Our labels are appropriately sized as well\n",
        "- Our image dimensions are **28 x 28**, with no color channels (i.e. they are grayscale, so no BGR channels)\n"
      ]
    },
    {
      "cell_type": "code",
      "metadata": {
        "id": "PA7qnoeZoPEE",
        "colab_type": "code",
        "outputId": "55d2a11b-0169-40c5-82dc-36ac53c8b301",
        "colab": {
          "base_uri": "https://localhost:8080/",
          "height": 202
        }
      },
      "source": [
        "# printing the number of samples in X_train, X_test, y_train, y_test\n",
        "print(\"Initial shape of dimensions of X_train\", str(X_train.shape))\n",
        "\n",
        "print(\"Number of samples in our training data: \"+ str(len(X_train)))\n",
        "print(\"Number of labels in out training data: \"+ str(len(y_train)))\n",
        "print(\"Number of samples in our test data: \"+ str(len(X_test)))\n",
        "print(\"Number of labels in out test data: \"+ str(len(y_test)))\n",
        "print()\n",
        "print(\"Dimensions of x_train:\" + str(X_train[0].shape))\n",
        "print(\"Labels in x_train:\" + str(y_train.shape))\n",
        "print()\n",
        "print(\"Dimensions of X_test:\" + str(X_test[0].shape))\n",
        "print(\"Labels in X_test:\" + str(y_test.shape))"
      ],
      "execution_count": 4,
      "outputs": [
        {
          "output_type": "stream",
          "text": [
            "Initial shape of dimensions of X_train (60000, 28, 28)\n",
            "Number of samples in our training data: 60000\n",
            "Number of labels in out training data: 60000\n",
            "Number of samples in our test data: 10000\n",
            "Number of labels in out test data: 10000\n",
            "\n",
            "Dimensions of x_train:(28, 28)\n",
            "Labels in x_train:(60000,)\n",
            "\n",
            "Dimensions of X_test:(28, 28)\n",
            "Labels in X_test:(10000,)\n"
          ],
          "name": "stdout"
        }
      ]
    },
    {
      "cell_type": "markdown",
      "metadata": {
        "id": "yHHGB9uOpXCI",
        "colab_type": "text"
      },
      "source": [
        "### Step 2B - Let's take a look at some of images in this dataset\n",
        "- Using OpenCV\n",
        "- Using Matplotlib"
      ]
    },
    {
      "cell_type": "code",
      "metadata": {
        "id": "iOt9l0B0phll",
        "colab_type": "code",
        "outputId": "c423a98b-9853-4929-a78a-31fb458bab0f",
        "colab": {
          "base_uri": "https://localhost:8080/",
          "height": 185
        }
      },
      "source": [
        "# using OpenCV\n",
        "import cv2\n",
        "from google.colab.patches import cv2_imshow # this is because I use Colab Research by Google\n",
        "import numpy as np\n",
        "\n",
        "for i in range(0,6):\n",
        "  random_num = np.random.randint(0, len(X_train))\n",
        "  img = X_train[random_num]\n",
        "  cv2_imshow(img)\n",
        "  cv2.waitKey(0)\n",
        "\n",
        "cv2.destroyAllWindows()"
      ],
      "execution_count": 5,
      "outputs": [
        {
          "output_type": "display_data",
          "data": {
            "image/png": "[encoded data removed]",
            "text/plain": [
              "<PIL.Image.Image image mode=L size=28x28 at 0x7F51634CCE48>"
            ]
          },
          "metadata": {
            "tags": []
          }
        },
        {
          "output_type": "display_data",
          "data": {
            "image/png": "[encoded data removed]",
            "text/plain": [
              "<PIL.Image.Image image mode=L size=28x28 at 0x7F515A02C0B8>"
            ]
          },
          "metadata": {
            "tags": []
          }
        },
        {
          "output_type": "display_data",
          "data": {
            "image/png": "[encoded data removed]",
            "text/plain": [
              "<PIL.Image.Image image mode=L size=28x28 at 0x7F51634CCEB8>"
            ]
          },
          "metadata": {
            "tags": []
          }
        },
        {
          "output_type": "display_data",
          "data": {
            "image/png": "[encoded data removed]",
            "text/plain": [
              "<PIL.Image.Image image mode=L size=28x28 at 0x7F515A03B048>"
            ]
          },
          "metadata": {
            "tags": []
          }
        },
        {
          "output_type": "display_data",
          "data": {
            "image/png": "[encoded data removed]",
            "text/plain": [
              "<PIL.Image.Image image mode=L size=28x28 at 0x7F51634CCEB8>"
            ]
          },
          "metadata": {
            "tags": []
          }
        },
        {
          "output_type": "display_data",
          "data": {
            "image/png": "[encoded data removed]",
            "text/plain": [
              "<PIL.Image.Image image mode=L size=28x28 at 0x7F515A03B160>"
            ]
          },
          "metadata": {
            "tags": []
          }
        }
      ]
    },
    {
      "cell_type": "markdown",
      "metadata": {
        "id": "HD5GdiGOq2Ko",
        "colab_type": "text"
      },
      "source": [
        "** Let's do the same thing byt using matplotlib to plot 6 images**\n"
      ]
    },
    {
      "cell_type": "code",
      "metadata": {
        "id": "idFUfzhTq8I7",
        "colab_type": "code",
        "outputId": "847b8213-8dcd-4a7f-f423-7f504fd099b9",
        "colab": {
          "base_uri": "https://localhost:8080/",
          "height": 191
        }
      },
      "source": [
        "import matplotlib.pyplot as plt\n",
        "%matplotlib inline\n",
        "\n",
        "plt.subplot(331)\n",
        "random_num = np.random.randint(0,len(X_train))\n",
        "plt.imshow(X_train[random_num], cmap=plt.get_cmap('gray'))\n",
        "\n",
        "\n",
        "plt.subplot(332)\n",
        "random_num = np.random.randint(0,len(X_train))\n",
        "plt.imshow(X_train[random_num], cmap=plt.get_cmap('gray'))\n",
        "\n",
        "\n",
        "plt.subplot(333)\n",
        "random_num = np.random.randint(0,len(X_train))\n",
        "plt.imshow(X_train[random_num], cmap=plt.get_cmap('gray'))\n",
        "\n",
        "\n",
        "plt.subplot(334)\n",
        "random_num = np.random.randint(0,len(X_train))\n",
        "plt.imshow(X_train[random_num], cmap=plt.get_cmap('gray'))\n",
        "\n",
        "\n",
        "plt.subplot(335)\n",
        "random_num = np.random.randint(0,len(X_train))\n",
        "plt.imshow(X_train[random_num], cmap=plt.get_cmap('gray'))\n",
        "\n",
        "\n",
        "plt.subplot(336)\n",
        "random_num = np.random.randint(0,len(X_train))\n",
        "plt.imshow(X_train[random_num], cmap=plt.get_cmap('gray'))\n",
        "\n",
        "plt.show()"
      ],
      "execution_count": 6,
      "outputs": [
        {
          "output_type": "display_data",
          "data": {
            "image/png": "[encoded data removed]",
            "text/plain": [
              "<Figure size 432x288 with 6 Axes>"
            ]
          },
          "metadata": {
            "tags": []
          }
        }
      ]
    },
    {
      "cell_type": "markdown",
      "metadata": {
        "id": "BhkJ_xO_r2zJ",
        "colab_type": "text"
      },
      "source": [
        "### Step 3A - Prepare our dataset for training"
      ]
    },
    {
      "cell_type": "code",
      "metadata": {
        "id": "v_ldKJqjr7iR",
        "colab_type": "code",
        "outputId": "1a1576cb-0359-4277-a6ec-c9c45f52bc3b",
        "colab": {
          "base_uri": "https://localhost:8080/",
          "height": 67
        }
      },
      "source": [
        "# storing the number of rows and col\n",
        "img_rows = X_train[0].shape[0]\n",
        "img_cols = X_train[0].shape[1]\n",
        "\n",
        "# Getting our data in the right 'shape' needed for Keras\n",
        "# We need to add a 4th dimension to our date thereby changing our\n",
        "# Our original image shape of (60000,28,28) to (60000,28,28,1)\n",
        "X_train = X_train.reshape(X_train.shape[0], img_rows, img_cols, 1)\n",
        "X_test = X_test.reshape(X_test.shape[0], img_rows, img_cols, 1)\n",
        "\n",
        "# store the shape of a single image\n",
        "input_shape = (img_rows, img_cols, 1)\n",
        "\n",
        "# change out image type to float32 data type\n",
        "X_train = X_train.astype('float32')\n",
        "X_test = X_test.astype('float32')\n",
        "\n",
        "# normalize out data by change the range from (0 to 255) to (0 to 1)\n",
        "X_train /= 255\n",
        "X_test /= 255\n",
        "\n",
        "print('X_train shape:', X_train.shape)\n",
        "print(X_train.shape[0], 'train samples')\n",
        "print(X_test.shape[0], 'test samples')"
      ],
      "execution_count": 7,
      "outputs": [
        {
          "output_type": "stream",
          "text": [
            "X_train shape: (60000, 28, 28, 1)\n",
            "60000 train samples\n",
            "10000 test samples\n"
          ],
          "name": "stdout"
        }
      ]
    },
    {
      "cell_type": "markdown",
      "metadata": {
        "id": "ltpi2IOYtVwf",
        "colab_type": "text"
      },
      "source": [
        "### Step 3B - One Hot Encode Our Labels (Y)"
      ]
    },
    {
      "cell_type": "code",
      "metadata": {
        "id": "Y0oJegL_taqp",
        "colab_type": "code",
        "outputId": "09d0e66a-d39f-4a37-c303-8587c8fe4651",
        "colab": {
          "base_uri": "https://localhost:8080/",
          "height": 34
        }
      },
      "source": [
        "from keras.utils import np_utils\n",
        "\n",
        "# Now we one hot encode outputs\n",
        "y_train = np_utils.to_categorical(y_train)\n",
        "y_test  = np_utils.to_categorical(y_test)\n",
        "\n",
        "# Let's count the number columns in our hot encoded matrix\n",
        "print('Number of classes: ' + str(y_test.shape[1]))\n",
        "\n",
        "num_classes = y_test.shape[1]\n",
        "num_pixels = X_train.shape[1] * X_train.shape[2]\n"
      ],
      "execution_count": 8,
      "outputs": [
        {
          "output_type": "stream",
          "text": [
            "Number of classes: 10\n"
          ],
          "name": "stdout"
        }
      ]
    },
    {
      "cell_type": "markdown",
      "metadata": {
        "id": "T8sWRlAluDzu",
        "colab_type": "text"
      },
      "source": [
        "### Step 4 - Create Our Model\n",
        "- We're constructing a simple but effective CNN that uses 32 filters of size 3x3\n",
        "- We've added a 2nd CONV layer of 64 filters of the same size 3x2\n",
        "- We then downsample out data to 2x2, hete he apply a dropout where p is set to 0.25\n",
        "- We then flatten out Max Pool output that is connected to a Dense/FC layer has an output size of 128\n",
        "- How we apply a dropout where P is set to 0.5\n",
        "- Thus 128 output is connected to another FC/Dense layer that outputs to the 10 categorical units"
      ]
    },
    {
      "cell_type": "code",
      "metadata": {
        "id": "mP75AW7lusP_",
        "colab_type": "code",
        "outputId": "44786873-384c-4898-df1f-b0cf0d6aba85",
        "colab": {
          "base_uri": "https://localhost:8080/",
          "height": 742
        }
      },
      "source": [
        "import keras\n",
        "from keras.datasets import mnist\n",
        "from keras.models import Sequential\n",
        "from keras.layers import Dense, Dropout, Flatten\n",
        "from keras.layers import Conv2D, MaxPooling2D\n",
        "from keras import backend as K\n",
        "from keras.optimizers import SGD\n",
        "\n",
        "model = Sequential()\n",
        "\n",
        "model.add(Conv2D(32, (3,3),\n",
        "                 activation='relu',\n",
        "                 input_shape=input_shape))\n",
        "model.add(Conv2D(64, \n",
        "                 (3,3),\n",
        "                 activation='relu'))\n",
        "model.add(MaxPooling2D(pool_size=(2, 2)))\n",
        "model.add(Dropout(0.25))\n",
        "model.add(Flatten())\n",
        "model.add(Dense(128, activation='relu'))\n",
        "model.add(Dropout(0.5))\n",
        "model.add(Dense(num_classes, activation='softmax'))\n",
        "\n",
        "model.compile(loss = 'categorical_crossentropy',\n",
        "             optimizer = SGD(0.01),\n",
        "             metrics = ['accuracy'])\n",
        "\n",
        "print(model.summary())\n"
      ],
      "execution_count": 9,
      "outputs": [
        {
          "output_type": "stream",
          "text": [
            "WARNING:tensorflow:From /usr/local/lib/python3.6/dist-packages/keras/backend/tensorflow_backend.py:66: The name tf.get_default_graph is deprecated. Please use tf.compat.v1.get_default_graph instead.\n",
            "\n",
            "WARNING:tensorflow:From /usr/local/lib/python3.6/dist-packages/keras/backend/tensorflow_backend.py:541: The name tf.placeholder is deprecated. Please use tf.compat.v1.placeholder instead.\n",
            "\n",
            "WARNING:tensorflow:From /usr/local/lib/python3.6/dist-packages/keras/backend/tensorflow_backend.py:4432: The name tf.random_uniform is deprecated. Please use tf.random.uniform instead.\n",
            "\n",
            "WARNING:tensorflow:From /usr/local/lib/python3.6/dist-packages/keras/backend/tensorflow_backend.py:4267: The name tf.nn.max_pool is deprecated. Please use tf.nn.max_pool2d instead.\n",
            "\n",
            "WARNING:tensorflow:From /usr/local/lib/python3.6/dist-packages/keras/backend/tensorflow_backend.py:148: The name tf.placeholder_with_default is deprecated. Please use tf.compat.v1.placeholder_with_default instead.\n",
            "\n",
            "WARNING:tensorflow:From /usr/local/lib/python3.6/dist-packages/keras/backend/tensorflow_backend.py:3733: calling dropout (from tensorflow.python.ops.nn_ops) with keep_prob is deprecated and will be removed in a future version.\n",
            "Instructions for updating:\n",
            "Please use `rate` instead of `keep_prob`. Rate should be set to `rate = 1 - keep_prob`.\n",
            "WARNING:tensorflow:From /usr/local/lib/python3.6/dist-packages/keras/optimizers.py:793: The name tf.train.Optimizer is deprecated. Please use tf.compat.v1.train.Optimizer instead.\n",
            "\n",
            "WARNING:tensorflow:From /usr/local/lib/python3.6/dist-packages/keras/backend/tensorflow_backend.py:3576: The name tf.log is deprecated. Please use tf.math.log instead.\n",
            "\n",
            "Model: \"sequential_1\"\n",
            "_________________________________________________________________\n",
            "Layer (type)                 Output Shape              Param #   \n",
            "=================================================================\n",
            "conv2d_1 (Conv2D)            (None, 26, 26, 32)        320       \n",
            "_________________________________________________________________\n",
            "conv2d_2 (Conv2D)            (None, 24, 24, 64)        18496     \n",
            "_________________________________________________________________\n",
            "max_pooling2d_1 (MaxPooling2 (None, 12, 12, 64)        0         \n",
            "_________________________________________________________________\n",
            "dropout_1 (Dropout)          (None, 12, 12, 64)        0         \n",
            "_________________________________________________________________\n",
            "flatten_1 (Flatten)          (None, 9216)              0         \n",
            "_________________________________________________________________\n",
            "dense_1 (Dense)              (None, 128)               1179776   \n",
            "_________________________________________________________________\n",
            "dropout_2 (Dropout)          (None, 128)               0         \n",
            "_________________________________________________________________\n",
            "dense_2 (Dense)              (None, 10)                1290      \n",
            "=================================================================\n",
            "Total params: 1,199,882\n",
            "Trainable params: 1,199,882\n",
            "Non-trainable params: 0\n",
            "_________________________________________________________________\n",
            "None\n"
          ],
          "name": "stdout"
        }
      ]
    },
    {
      "cell_type": "markdown",
      "metadata": {
        "id": "anOpifumxPD6",
        "colab_type": "text"
      },
      "source": [
        "### Step 5 - Train our Model\n",
        "- We place out formatted data as the inputs and set the batch size, number of epochs\n",
        "- We store out model's training results for plotting in future\n",
        "- We then use Kera's model.evaluate function to output the model's performance. Here we are examining Test Loss and Thest Accuracy"
      ]
    },
    {
      "cell_type": "code",
      "metadata": {
        "id": "c_QXe9sKxpwL",
        "colab_type": "code",
        "outputId": "f1054b89-bd49-4df6-879e-898c99c32d9d",
        "colab": {
          "base_uri": "https://localhost:8080/",
          "height": 742
        }
      },
      "source": [
        "batch_size = 32\n",
        "epochs = 10\n",
        "\n",
        "history = model.fit(X_train,\n",
        "                    y_train,\n",
        "                    batch_size = batch_size,\n",
        "                    epochs = epochs,\n",
        "                    verbose = 1,\n",
        "                    validation_data = (X_test, y_test))\n",
        "\n",
        "score = model.evaluate(X_test, y_test, verbose=0)\n",
        "print('Test loss:', score[0])\n",
        "print('Test accuracy:', score[1])"
      ],
      "execution_count": 10,
      "outputs": [
        {
          "output_type": "stream",
          "text": [
            "WARNING:tensorflow:From /usr/local/lib/python3.6/dist-packages/tensorflow_core/python/ops/math_grad.py:1424: where (from tensorflow.python.ops.array_ops) is deprecated and will be removed in a future version.\n",
            "Instructions for updating:\n",
            "Use tf.where in 2.0, which has the same broadcast rule as np.where\n",
            "WARNING:tensorflow:From /usr/local/lib/python3.6/dist-packages/keras/backend/tensorflow_backend.py:1033: The name tf.assign_add is deprecated. Please use tf.compat.v1.assign_add instead.\n",
            "\n",
            "WARNING:tensorflow:From /usr/local/lib/python3.6/dist-packages/keras/backend/tensorflow_backend.py:1020: The name tf.assign is deprecated. Please use tf.compat.v1.assign instead.\n",
            "\n",
            "WARNING:tensorflow:From /usr/local/lib/python3.6/dist-packages/keras/backend/tensorflow_backend.py:3005: The name tf.Session is deprecated. Please use tf.compat.v1.Session instead.\n",
            "\n",
            "Train on 60000 samples, validate on 10000 samples\n",
            "Epoch 1/10\n",
            "WARNING:tensorflow:From /usr/local/lib/python3.6/dist-packages/keras/backend/tensorflow_backend.py:190: The name tf.get_default_session is deprecated. Please use tf.compat.v1.get_default_session instead.\n",
            "\n",
            "WARNING:tensorflow:From /usr/local/lib/python3.6/dist-packages/keras/backend/tensorflow_backend.py:197: The name tf.ConfigProto is deprecated. Please use tf.compat.v1.ConfigProto instead.\n",
            "\n",
            "WARNING:tensorflow:From /usr/local/lib/python3.6/dist-packages/keras/backend/tensorflow_backend.py:207: The name tf.global_variables is deprecated. Please use tf.compat.v1.global_variables instead.\n",
            "\n",
            "WARNING:tensorflow:From /usr/local/lib/python3.6/dist-packages/keras/backend/tensorflow_backend.py:216: The name tf.is_variable_initialized is deprecated. Please use tf.compat.v1.is_variable_initialized instead.\n",
            "\n",
            "WARNING:tensorflow:From /usr/local/lib/python3.6/dist-packages/keras/backend/tensorflow_backend.py:223: The name tf.variables_initializer is deprecated. Please use tf.compat.v1.variables_initializer instead.\n",
            "\n",
            "60000/60000 [==============================] - 158s 3ms/step - loss: 0.5734 - acc: 0.8194 - val_loss: 0.1944 - val_acc: 0.9421\n",
            "Epoch 2/10\n",
            "60000/60000 [==============================] - 157s 3ms/step - loss: 0.2980 - acc: 0.9099 - val_loss: 0.1428 - val_acc: 0.9569\n",
            "Epoch 3/10\n",
            "60000/60000 [==============================] - 157s 3ms/step - loss: 0.2399 - acc: 0.9273 - val_loss: 0.1138 - val_acc: 0.9666\n",
            "Epoch 4/10\n",
            "60000/60000 [==============================] - 157s 3ms/step - loss: 0.1944 - acc: 0.9417 - val_loss: 0.0930 - val_acc: 0.9717\n",
            "Epoch 5/10\n",
            "60000/60000 [==============================] - 157s 3ms/step - loss: 0.1596 - acc: 0.9526 - val_loss: 0.0779 - val_acc: 0.9764\n",
            "Epoch 6/10\n",
            "60000/60000 [==============================] - 157s 3ms/step - loss: 0.1350 - acc: 0.9599 - val_loss: 0.0660 - val_acc: 0.9790\n",
            "Epoch 7/10\n",
            "60000/60000 [==============================] - 157s 3ms/step - loss: 0.1188 - acc: 0.9648 - val_loss: 0.0578 - val_acc: 0.9821\n",
            "Epoch 8/10\n",
            "60000/60000 [==============================] - 157s 3ms/step - loss: 0.1087 - acc: 0.9673 - val_loss: 0.0530 - val_acc: 0.9835\n",
            "Epoch 9/10\n",
            "60000/60000 [==============================] - 157s 3ms/step - loss: 0.0961 - acc: 0.9710 - val_loss: 0.0474 - val_acc: 0.9838\n",
            "Epoch 10/10\n",
            "60000/60000 [==============================] - 157s 3ms/step - loss: 0.0889 - acc: 0.9729 - val_loss: 0.0458 - val_acc: 0.9842\n",
            "Test loss: 0.04583385345927672\n",
            "Test accuracy: 0.9842\n"
          ],
          "name": "stdout"
        }
      ]
    },
    {
      "cell_type": "markdown",
      "metadata": {
        "id": "1BH-dCAUkX-R",
        "colab_type": "text"
      },
      "source": [
        "### Step 6 - Plotting out Loss and Accuracy Charts\n"
      ]
    },
    {
      "cell_type": "code",
      "metadata": {
        "id": "SZaRElv6RYdq",
        "colab_type": "code",
        "outputId": "36152718-2733-4fe7-fd40-f7332e64179b",
        "colab": {
          "base_uri": "https://localhost:8080/",
          "height": 279
        }
      },
      "source": [
        "%matplotlib inline\n",
        "import matplotlib.pyplot as plt\n",
        "\n",
        "history_dict = history.history\n",
        "\n",
        "loss_values = history_dict['loss']\n",
        "val_loss_values = history_dict['val_loss']\n",
        "epochs = range(1, len(loss_values) + 1)\n",
        "\n",
        "line1 = plt.plot(epochs, val_loss_values, label='Validation/Test Loss')\n",
        "line2 = plt.plot(epochs, loss_values, label='Training Loss')\n",
        "plt.setp(line1, linewidth=2.0, marker = '+', markersize=10.0)\n",
        "plt.setp(line2, linewidth=2.0, marker = '4', markersize=10.0)\n",
        "plt.xlabel('Epochs')\n",
        "plt.ylabel('Loss')\n",
        "plt.grid(True)\n",
        "plt.legend()\n",
        "plt.show()"
      ],
      "execution_count": 11,
      "outputs": [
        {
          "output_type": "display_data",
          "data": {
            "image/png": "[encoded data removed]",
            "text/plain": [
              "<Figure size 432x288 with 1 Axes>"
            ]
          },
          "metadata": {
            "tags": []
          }
        }
      ]
    },
    {
      "cell_type": "code",
      "metadata": {
        "id": "hnl181QVSrOv",
        "colab_type": "code",
        "outputId": "110489c7-7ec8-4df5-b054-080ca3fe128e",
        "colab": {
          "base_uri": "https://localhost:8080/",
          "height": 279
        }
      },
      "source": [
        "%matplotlib inline\n",
        "import matplotlib.pyplot as plt\n",
        "\n",
        "history_dict = history.history\n",
        "\n",
        "acc_values = history_dict['acc']\n",
        "val_acc_values = history_dict['val_acc']\n",
        "epochs = range(1, len(loss_values) + 1)\n",
        "\n",
        "line1 = plt.plot(epochs, val_acc_values, label='Validation/Test Accuracy')\n",
        "line2 = plt.plot(epochs, acc_values, label='Training Accuracy')\n",
        "plt.setp(line1, linewidth=2.0, marker = '+', markersize=10.0)\n",
        "plt.setp(line2, linewidth=2.0, marker = '4', markersize=10.0)\n",
        "plt.xlabel('Epochs') \n",
        "plt.ylabel('Accuracy')\n",
        "plt.grid(True)\n",
        "plt.legend()\n",
        "plt.show()"
      ],
      "execution_count": 12,
      "outputs": [
        {
          "output_type": "display_data",
          "data": {
            "image/png": "[encoded data removed]",
            "text/plain": [
              "<Figure size 432x288 with 1 Axes>"
            ]
          },
          "metadata": {
            "tags": []
          }
        }
      ]
    },
    {
      "cell_type": "markdown",
      "metadata": {
        "id": "Ax-N6v8wUts6",
        "colab_type": "text"
      },
      "source": [
        "### Step 7A - Saving our Model"
      ]
    },
    {
      "cell_type": "code",
      "metadata": {
        "id": "YVtluQuVU0cv",
        "colab_type": "code",
        "colab": {
          "base_uri": "https://localhost:8080/",
          "height": 121
        },
        "outputId": "297415b9-cc37-42bc-fd60-6524ee9477b8"
      },
      "source": [
        "from google.colab import drive\n",
        "drive.mount('/content/drive')"
      ],
      "execution_count": 1,
      "outputs": [
        {
          "output_type": "stream",
          "text": [
            "Go to this URL in a browser: https://accounts.google.com/o/oauth2/auth?client_id=947318989803-6bn6qk8qdgf4n4g3pfee6491hc0brc4i.apps.googleusercontent.com&redirect_uri=urn%3aietf%3awg%3aoauth%3a2.0%3aoob&response_type=code&scope=email%20https%3a%2f%2fwww.googleapis.com%2fauth%2fdocs.test%20https%3a%2f%2fwww.googleapis.com%2fauth%2fdrive%20https%3a%2f%2fwww.googleapis.com%2fauth%2fdrive.photos.readonly%20https%3a%2f%2fwww.googleapis.com%2fauth%2fpeopleapi.readonly\n",
            "\n",
            "Enter your authorization code:\n",
            "··········\n",
            "Mounted at /content/drive\n"
          ],
          "name": "stdout"
        }
      ]
    },
    {
      "cell_type": "code",
      "metadata": {
        "id": "PH83cG5wU_0r",
        "colab_type": "code",
        "colab": {
          "base_uri": "https://localhost:8080/",
          "height": 34
        },
        "outputId": "62686753-4a10-4c07-f043-f012039ff93a"
      },
      "source": [
        "model.save(\"/content/drive/My Drive/DeepLearningCV/Trained Models/mnist_simple_cnn_10_epochs.h5\")\n",
        "print(\"Model save\")"
      ],
      "execution_count": 20,
      "outputs": [
        {
          "output_type": "stream",
          "text": [
            "Model save\n"
          ],
          "name": "stdout"
        }
      ]
    },
    {
      "cell_type": "markdown",
      "metadata": {
        "id": "aPzIIR2mcA-Y",
        "colab_type": "text"
      },
      "source": [
        "### Step 7B - Loading our Model"
      ]
    },
    {
      "cell_type": "code",
      "metadata": {
        "id": "4iO5vSnacElx",
        "colab_type": "code",
        "colab": {
          "base_uri": "https://localhost:8080/",
          "height": 34
        },
        "outputId": "29bbbdf1-09ca-4ed0-fded-c94c8157766f"
      },
      "source": [
        "from keras.models import load_model\n",
        "classifier = load_model(\"/content/drive/My Drive/DeepLearningCV/Trained Models/mnist_simple_cnn_10_epochs.h5\")\n",
        "print(\"Model loaded\")"
      ],
      "execution_count": 21,
      "outputs": [
        {
          "output_type": "stream",
          "text": [
            "Model loaded\n"
          ],
          "name": "stdout"
        }
      ]
    },
    {
      "cell_type": "markdown",
      "metadata": {
        "id": "ZKw10hGLcUb7",
        "colab_type": "text"
      },
      "source": [
        "### Step 8 - Lets input some of our test data into our classifier"
      ]
    },
    {
      "cell_type": "code",
      "metadata": {
        "id": "2Me2fXIrcbGa",
        "colab_type": "code",
        "colab": {
          "base_uri": "https://localhost:8080/",
          "height": 1000
        },
        "outputId": "d5290123-f091-4944-eed7-56747eb6bdfd"
      },
      "source": [
        "import cv2\n",
        "from google.colab.patches import cv2_imshow\n",
        "import numpy as np\n",
        "\n",
        "def draw_test(name, pred, input_im):\n",
        "  BLACK = [0,0,0]\n",
        "  expanded_image = cv2.copyMakeBorder(input_im, 0, 0, 0, imageL.shape[0], cv2.BORDER_CONSTANT, value=BLACK)\n",
        "  expanded_image = cv2.cvtColor(expanded_image, cv2.COLOR_GRAY2BGR)\n",
        "  cv2.putText(expanded_image, str(pred), (152,70), cv2.FONT_HERSHEY_COMPLEX_SMALL,4, (0,255,0), 2)\n",
        "  cv2_imshow(expanded_image)\n",
        "\n",
        "for i in range(0,10):\n",
        "  rand = np.random.randint(0,len(X_test))\n",
        "  input_im = X_test[rand]\n",
        "  \n",
        "  imageL = cv2.resize(input_im, None, fx=4, fy=4, interpolation = cv2.INTER_CUBIC)\n",
        "  input_im = input_im.reshape(1,28,28,1)\n",
        "\n",
        "  ## get prediction\n",
        "  res = str(classifier.predict_classes(input_im,1,verbose=0)[0])\n",
        "\n",
        "  draw_test(\"Prediction\", res, imageL)\n",
        "  cv2.waitKey(0)\n",
        "\n",
        "cv2.destroyAllWindows()"
      ],
      "execution_count": 22,
      "outputs": [
        {
          "output_type": "display_data",
          "data": {
            "image/png": "[encoded data removed]",
            "text/plain": [
              "<PIL.Image.Image image mode=RGB size=224x112 at 0x7F5144780978>"
            ]
          },
          "metadata": {
            "tags": []
          }
        },
        {
          "output_type": "display_data",
          "data": {
            "image/png": "[encoded data removed]",
            "text/plain": [
              "<PIL.Image.Image image mode=RGB size=224x112 at 0x7F5144780908>"
            ]
          },
          "metadata": {
            "tags": []
          }
        },
        {
          "output_type": "display_data",
          "data": {
            "image/png": "[encoded data removed]",
            "text/plain": [
              "<PIL.Image.Image image mode=RGB size=224x112 at 0x7F5144780978>"
            ]
          },
          "metadata": {
            "tags": []
          }
        },
        {
          "output_type": "display_data",
          "data": {
            "image/png": "[encoded data removed]",
            "text/plain": [
              "<PIL.Image.Image image mode=RGB size=224x112 at 0x7F5144780898>"
            ]
          },
          "metadata": {
            "tags": []
          }
        },
        {
          "output_type": "display_data",
          "data": {
            "image/png": "[encoded data removed]",
            "text/plain": [
              "<PIL.Image.Image image mode=RGB size=224x112 at 0x7F5144780978>"
            ]
          },
          "metadata": {
            "tags": []
          }
        },
        {
          "output_type": "display_data",
          "data": {
            "image/png": "[encoded data removed]",
            "text/plain": [
              "<PIL.Image.Image image mode=RGB size=224x112 at 0x7F5144780898>"
            ]
          },
          "metadata": {
            "tags": []
          }
        },
        {
          "output_type": "display_data",
          "data": {
            "image/png": "[encoded data removed]",
            "text/plain": [
              "<PIL.Image.Image image mode=RGB size=224x112 at 0x7F5144780C18>"
            ]
          },
          "metadata": {
            "tags": []
          }
        },
        {
          "output_type": "display_data",
          "data": {
            "image/png": "[encoded data removed]",
            "text/plain": [
              "<PIL.Image.Image image mode=RGB size=224x112 at 0x7F5144780BE0>"
            ]
          },
          "metadata": {
            "tags": []
          }
        },
        {
          "output_type": "display_data",
          "data": {
            "image/png": "[encoded data removed]",
            "text/plain": [
              "<PIL.Image.Image image mode=RGB size=224x112 at 0x7F5144780908>"
            ]
          },
          "metadata": {
            "tags": []
          }
        },
        {
          "output_type": "display_data",
          "data": {
            "image/png": "[encoded data removed]",
            "text/plain": [
              "<PIL.Image.Image image mode=RGB size=224x112 at 0x7F5144780C50>"
            ]
          },
          "metadata": {
            "tags": []
          }
        }
      ]
    },
    {
      "cell_type": "markdown",
      "metadata": {
        "id": "L2OmgdZIesRu",
        "colab_type": "text"
      },
      "source": [
        "### Putting All Together"
      ]
    },
    {
      "cell_type": "markdown",
      "metadata": {
        "id": "hfyLAxyke1T9",
        "colab_type": "text"
      },
      "source": [
        "**We don't need to run each section of code separately. Once we know it all works as it's supposed to, we can put all te pieces together and start training our model**\n"
      ]
    },
    {
      "cell_type": "code",
      "metadata": {
        "id": "JOTaL0Vievbf",
        "colab_type": "code",
        "colab": {}
      },
      "source": [
        "from keras.datasets import mnist\n",
        "from keras.utils import np_utils\n",
        "import keras\n",
        "from keras.datasets import mnist\n",
        "from keras.models import Sequential\n",
        "from keras.layers import Dense, Dropout, Flatten\n",
        "from keras.layers import Conv2D, MaxPooling2D\n",
        "from keras import backend as K\n",
        "from keras.optimizers import SGD \n",
        "\n",
        "# Training Parameters\n",
        "batch_size = 128\n",
        "epochs = 10\n",
        "\n",
        "# loads the MNIST dataset\n",
        "(x_train, y_train), (x_test, y_test)  = mnist.load_data()\n",
        "\n",
        "# Lets store the number of rows and columns\n",
        "img_rows = x_train[0].shape[0]\n",
        "img_cols = x_train[1].shape[0]\n",
        "\n",
        "# Getting our date in the right 'shape' needed for Keras\n",
        "# We need to add a 4th dimenion to our date thereby changing our\n",
        "# Our original image shape of (60000,28,28) to (60000,28,28,1)\n",
        "x_train = x_train.reshape(x_train.shape[0], img_rows, img_cols, 1)\n",
        "x_test = x_test.reshape(x_test.shape[0], img_rows, img_cols, 1)\n",
        "\n",
        "# store the shape of a single image \n",
        "input_shape = (img_rows, img_cols, 1)\n",
        "\n",
        "# change our image type to float32 data type\n",
        "x_train = x_train.astype('float32')\n",
        "x_test = x_test.astype('float32')\n",
        "\n",
        "# Normalize our data by changing the range from (0 to 255) to (0 to 1)\n",
        "x_train /= 255\n",
        "x_test /= 255\n",
        "\n",
        "print('x_train shape:', x_train.shape)\n",
        "print(x_train.shape[0], 'train samples')\n",
        "print(x_test.shape[0], 'test samples')\n",
        "\n",
        "# Now we one hot encode outputs\n",
        "y_train = np_utils.to_categorical(y_train)\n",
        "y_test = np_utils.to_categorical(y_test)\n",
        "\n",
        "# Let's count the number columns in our hot encoded matrix \n",
        "print (\"Number of Classes: \" + str(y_test.shape[1]))\n",
        "\n",
        "num_classes = y_test.shape[1]\n",
        "num_pixels = x_train.shape[1] * x_train.shape[2]\n",
        "\n",
        "# create model\n",
        "model = Sequential()\n",
        "\n",
        "model.add(Conv2D(32, kernel_size=(3, 3),\n",
        "                 activation='relu',\n",
        "                 input_shape=input_shape))\n",
        "model.add(Conv2D(64, (3, 3), activation='relu'))\n",
        "model.add(MaxPooling2D(pool_size=(2, 2)))\n",
        "model.add(Dropout(0.25))\n",
        "model.add(Flatten())\n",
        "model.add(Dense(128, activation='relu'))\n",
        "model.add(Dropout(0.5))\n",
        "model.add(Dense(num_classes, activation='softmax'))\n",
        "\n",
        "model.compile(loss = 'categorical_crossentropy',\n",
        "              optimizer = SGD(0.01),\n",
        "              metrics = ['accuracy'])\n",
        "\n",
        "print(model.summary())\n",
        "\n",
        "history = model.fit(x_train, y_train,\n",
        "          batch_size=batch_size,\n",
        "          epochs=epochs,\n",
        "          verbose=1,\n",
        "          validation_data=(x_test, y_test))\n",
        "\n",
        "score = model.evaluate(x_test, y_test, verbose=0)\n",
        "print('Test loss:', score[0])\n",
        "print('Test accuracy:', score[1])"
      ],
      "execution_count": 0,
      "outputs": []
    },
    {
      "cell_type": "markdown",
      "metadata": {
        "id": "7ixbSg6Oe5zF",
        "colab_type": "text"
      },
      "source": [
        "###Visualizing Our Model\n",
        "- First let's re-create our model \n"
      ]
    },
    {
      "cell_type": "code",
      "metadata": {
        "id": "MCFDjNLrfB0Y",
        "colab_type": "code",
        "colab": {
          "base_uri": "https://localhost:8080/",
          "height": 437
        },
        "outputId": "a7c7247b-c384-40ae-ef6f-aa021ea39ceb"
      },
      "source": [
        "%matplotlib inline\n",
        "import keras\n",
        "from keras.models import Sequential\n",
        "from keras.utils.vis_utils import plot_model\n",
        "import matplotlib.pyplot as plt\n",
        "import matplotlib.image as mpimg\n",
        "import numpy as np\n",
        "from keras.utils import np_utils\n",
        "from keras.layers import Dense, Dropout, Flatten\n",
        "from keras.layers import Conv2D, MaxPooling2D\n",
        "from keras import backend as K\n",
        "\n",
        "input_shape = (28,28,1)\n",
        "num_classes = 10\n",
        "\n",
        "model = Sequential()\n",
        "\n",
        "model.add(Conv2D(32, kernel_size=(3, 3),\n",
        "                 activation='relu',\n",
        "                 input_shape=input_shape))\n",
        "model.add(Conv2D(64, (3, 3), activation='relu'))\n",
        "model.add(MaxPooling2D(pool_size=(2, 2)))\n",
        "model.add(Dropout(0.25))\n",
        "model.add(Flatten())\n",
        "model.add(Dense(128, activation='relu'))\n",
        "model.add(Dropout(0.5))\n",
        "model.add(Dense(num_classes, activation='softmax'))\n",
        "\n",
        "model.compile(loss=keras.losses.categorical_crossentropy,\n",
        "              optimizer=keras.optimizers.Adadelta(),\n",
        "              metrics=['accuracy'])\n",
        "\n",
        "print(model.summary())"
      ],
      "execution_count": 23,
      "outputs": [
        {
          "output_type": "stream",
          "text": [
            "Model: \"sequential_2\"\n",
            "_________________________________________________________________\n",
            "Layer (type)                 Output Shape              Param #   \n",
            "=================================================================\n",
            "conv2d_3 (Conv2D)            (None, 26, 26, 32)        320       \n",
            "_________________________________________________________________\n",
            "conv2d_4 (Conv2D)            (None, 24, 24, 64)        18496     \n",
            "_________________________________________________________________\n",
            "max_pooling2d_2 (MaxPooling2 (None, 12, 12, 64)        0         \n",
            "_________________________________________________________________\n",
            "dropout_3 (Dropout)          (None, 12, 12, 64)        0         \n",
            "_________________________________________________________________\n",
            "flatten_2 (Flatten)          (None, 9216)              0         \n",
            "_________________________________________________________________\n",
            "dense_3 (Dense)              (None, 128)               1179776   \n",
            "_________________________________________________________________\n",
            "dropout_4 (Dropout)          (None, 128)               0         \n",
            "_________________________________________________________________\n",
            "dense_4 (Dense)              (None, 10)                1290      \n",
            "=================================================================\n",
            "Total params: 1,199,882\n",
            "Trainable params: 1,199,882\n",
            "Non-trainable params: 0\n",
            "_________________________________________________________________\n",
            "None\n"
          ],
          "name": "stdout"
        }
      ]
    },
    {
      "cell_type": "markdown",
      "metadata": {
        "id": "CdEgUxgOfDuB",
        "colab_type": "text"
      },
      "source": [
        "### Generating the diagram of the model architecture"
      ]
    },
    {
      "cell_type": "code",
      "metadata": {
        "id": "I78o9NmqfHnG",
        "colab_type": "code",
        "colab": {
          "base_uri": "https://localhost:8080/",
          "height": 867
        },
        "outputId": "e8ed864e-e447-4810-bf47-6d40c2fea36c"
      },
      "source": [
        "# Save our model diagrams to this path\n",
        "model_diagrams_path = '/content/drive/My Drive/DeepLearningCV/Trained Models/'\n",
        "\n",
        "# Generate the plot\n",
        "plot_model(model, to_file = model_diagrams_path + 'model_plot.png',\n",
        "           show_shapes = True,\n",
        "           show_layer_names = True)\n",
        "\n",
        "# Show the plot here\n",
        "img = mpimg.imread(model_diagrams_path + 'model_plot.png')\n",
        "plt.figure(figsize=(30,15))\n",
        "imgplot = plt.imshow(img) "
      ],
      "execution_count": 24,
      "outputs": [
        {
          "output_type": "display_data",
          "data": {
            "image/png": "[encoded data removed]",
            "text/plain": [
              "<Figure size 2160x1080 with 1 Axes>"
            ]
          },
          "metadata": {
            "tags": []
          }
        }
      ]
    },
    {
      "cell_type": "markdown",
      "metadata": {
        "id": "7T6CHlpwf8xw",
        "colab_type": "text"
      },
      "source": [
        "Great thanks to professor Rajeev D. Ratan. Thanks to the course he taught on the Udemy platform, I was able to make this model.\n",
        "\n",
        "Link of Course: https://www.udemy.com/share/101YkoA0ofdVlWRH4=/"
      ]
    }
  ]
}